{
  "nbformat": 4,
  "nbformat_minor": 0,
  "metadata": {
    "colab": {
      "name": "Bagging.ipynb",
      "provenance": [],
      "collapsed_sections": [],
      "authorship_tag": "ABX9TyOgnXewyk+27XlqY4l0UdDW",
      "include_colab_link": true
    },
    "kernelspec": {
      "name": "python3",
      "display_name": "Python 3"
    },
    "language_info": {
      "name": "python"
    },
    "accelerator": "GPU"
  },
  "cells": [
    {
      "cell_type": "markdown",
      "metadata": {
        "id": "view-in-github",
        "colab_type": "text"
      },
      "source": [
        "<a href=\"https://colab.research.google.com/github/Lursen/Ensemble-methods/blob/main/Bagging.ipynb\" target=\"_parent\"><img src=\"https://colab.research.google.com/assets/colab-badge.svg\" alt=\"Open In Colab\"/></a>"
      ]
    },
    {
      "cell_type": "markdown",
      "source": [
        "Класс однослойной нейронной сети прямого распространения"
      ],
      "metadata": {
        "id": "DRikG65NTnBS"
      }
    },
    {
      "cell_type": "code",
      "metadata": {
        "id": "SlIQi9DGLU3a"
      },
      "source": [
        "import matplotlib.pyplot as plt\n",
        "import numpy as np\n",
        "\n",
        "class FeedForwardNetwork():\n",
        "  def __init__(self, nIn=51, nHidden=200, nOut=1, iter = 10000):\n",
        "    # learning rate\n",
        "    self.alpha = 0.3\n",
        "    # number of iterations\n",
        "    self.iter = iter\n",
        "    # array of errors\n",
        "    self.errors = []\n",
        "    self.accuracy = []\n",
        "    #number of neurons in each layer\n",
        "    self.nIn = nIn\n",
        "    self.nHidden = nHidden\n",
        "    self.nOut = nOut\n",
        "    # initialize weights randomly (+1 for bias)\n",
        "    self.hWeights = np.random.randn(self.nHidden, self.nIn+1)\n",
        "    self.oWeights = np.random.randn(self.nOut, self.nHidden+1)\n",
        "    # activations of neurons (sum of inputs)\n",
        "    self.hActivation = np.zeros((self.nHidden, 1), dtype=float)\n",
        "    self.oActivation = np.zeros((self.nOut, 1), dtype=float)\n",
        "    # outputs of neurons (after sigmoid function)\n",
        "    self.iOutput = np.zeros((self.nIn+1, 1), dtype=float) # +1 for bias\n",
        "    self.hOutput = np.zeros((self.nHidden+1, 1), dtype=float) # +1 for bias\n",
        "    self.oOutput = np.zeros((self.nOut), dtype=float)\n",
        "    # deltas for hidden and output layer\n",
        "    self.hDelta = np.zeros((self.nHidden), dtype=float)\n",
        "    self.oDelta = np.zeros((self.nOut), dtype=float) \n",
        "\n",
        "  def sigmoid(self,Z):\n",
        "    return 1/(1+np.exp(-Z))\n",
        "\n",
        "  def forward(self, input):\n",
        "    # set input as output of first layer (bias neuron = 1.0)\n",
        "    self.iOutput[:-1, 0] = input\n",
        "    self.iOutput[-1:, 0] = 1.0\n",
        "    # hidden layer\n",
        "    self.hActivation = np.dot(self.hWeights, self.iOutput)\n",
        "    self.hOutput[:-1, :] = self.sigmoid(self.hActivation)\n",
        "    # set bias neuron in hidden layer to 1.0\n",
        "    self.hOutput[-1:, :] = 1.0\n",
        "    # output layer\n",
        "    self.oActivation = np.dot(self.oWeights, self.hOutput)\n",
        "    self.oOutput = self.sigmoid(self.oActivation)\n",
        "\n",
        "  def get_results(self, teach):\n",
        "    err =  self.oOutput - teach\n",
        "    acc = 1 - np.abs(err)\n",
        "    return err,acc\n",
        "\n",
        "  def backward(self, teach):\n",
        "    error =  self.oOutput - teach\n",
        "    self.errors.append(np.square(error))\n",
        "    self.accuracy.append(1-np.abs(self.oOutput - teach))\n",
        "    # deltas of output neurons\n",
        "    self.oDelta = (1 - self.sigmoid(self.oActivation)) * self.sigmoid(self.oActivation) * error\n",
        "    # deltas of hidden neurons\n",
        "    self.hDelta = (1 - self.sigmoid(self.hActivation)) * self.sigmoid(self.hActivation) * np.dot(self.oWeights[:,:-1].transpose(), self.oDelta)\n",
        "    # apply weight changes\n",
        "    self.hWeights = self.hWeights - self.alpha * np.dot(self.hDelta, self.iOutput.transpose()) \n",
        "    self.oWeights = self.oWeights - self.alpha * np.dot(self.oDelta, self.hOutput.transpose())\n",
        "\n",
        "  def train(self, X, Y):\n",
        "    for i in range(0,self.iter):\n",
        "      rnd = np.random.randint(0,np.shape(X)[0])\n",
        "      self.forward(X[rnd])\n",
        "      self.backward(Y[rnd])\n",
        "\n",
        "  def getErrors(self):\n",
        "    return self.errors\n",
        "\n",
        "  def getAccuracy(self):\n",
        "    return np.mean(self.accuracy)\n",
        "\n",
        "  def getOutput(self):\n",
        "    if (self.oOutput >= 0.8):\n",
        "      return 1\n",
        "    else:\n",
        "      return 0\n"
      ],
      "execution_count": null,
      "outputs": []
    },
    {
      "cell_type": "markdown",
      "source": [
        "Функции для обучения комитета классификаторов"
      ],
      "metadata": {
        "id": "TSTR160jUyC1"
      }
    },
    {
      "cell_type": "code",
      "metadata": {
        "id": "rPbHMR4lLjUo"
      },
      "source": [
        "import math\n",
        "\n",
        "def train_commitee(m,x,y,x_test,y_test):\n",
        "  NN = [[] for i in range(m)]\n",
        "  accuracy = [[] for i in range(m)]\n",
        "\n",
        "  for i in range(0,m):\n",
        "    NN[i] = FeedForwardNetwork()\n",
        "    NN[i].train(x[i],y[i])\n",
        "\n",
        "  for t in range(0,50):\n",
        "    for i in range(0,m):\n",
        "      rnd = np.random.randint(0,np.shape(x_test)[0])\n",
        "      NN[i].forward(x_test[rnd])\n",
        "      err, acc = NN[i].get_results(y_test[rnd])\n",
        "      accuracy[i].append(acc)\n",
        "\n",
        "  return NN, accuracy\n",
        "\n",
        "def get_commitee_answer(NN,X,Y,iter=50):\n",
        "  accuracy = []\n",
        "  answer = 0\n",
        "  for iter in range(0,iter):\n",
        "    rnd = np.random.randint(0,np.shape(X)[0])\n",
        "    sum = 0\n",
        "    for i in range(0,np.shape(NN)[0]):\n",
        "      NN[i].forward(X[rnd])\n",
        "      err, acc = NN[i].get_results(Y[rnd])\n",
        "      sum += NN[i].getOutput()\n",
        "    #print('rnd:',rnd)\n",
        "    #print('Sum:',sum)\n",
        "    #print('Correct answer:', Y[rnd])\n",
        "    if (sum >= (np.shape(NN)[0])/2 + 1):\n",
        "      #print('Committee answer:', 1)\n",
        "      answer = 1\n",
        "    else:\n",
        "      #print('Committee answer:', 0)\n",
        "      answer = 0\n",
        "    error = np.abs(Y[rnd] - answer)\n",
        "    accuracy.append(1-error)\n",
        "  acc_mean = np.mean(accuracy)\n",
        "  std = np.std(accuracy)\n",
        "  return acc_mean, std"
      ],
      "execution_count": null,
      "outputs": []
    },
    {
      "cell_type": "markdown",
      "source": [
        "Загрузка датасета, создание выборок"
      ],
      "metadata": {
        "id": "OL-acLBkWdyb"
      }
    },
    {
      "cell_type": "code",
      "metadata": {
        "id": "Rn976GEZZ_cP"
      },
      "source": [
        "import numpy as np\n",
        "import pandas as pd\n",
        "from sklearn.model_selection import train_test_split\n",
        "\n",
        "#bool_in=0\n",
        "#real_in=51\n",
        "#bool_out=2\n",
        "#real_out=0\n",
        "#training_examples=345\n",
        "#validation_examples=173\n",
        "#test_examples=172\n",
        "\n",
        "data = np.loadtxt('card2.dt')\n",
        "X = data[:, 0:51]\n",
        "Y = data[:, 52]\n",
        "\n",
        "X_train, X_test, y_train, y_test = train_test_split(X, Y, train_size=0.9, random_state=42)"
      ],
      "execution_count": null,
      "outputs": []
    },
    {
      "cell_type": "markdown",
      "source": [
        "Обучение и тестирование комитетов"
      ],
      "metadata": {
        "id": "GIoiKO9-WneR"
      }
    },
    {
      "cell_type": "markdown",
      "metadata": {
        "id": "H125koNEP8l6"
      },
      "source": [
        "5 классификаторов"
      ]
    },
    {
      "cell_type": "code",
      "metadata": {
        "id": "thOm_kwPMe3N"
      },
      "source": [
        "import itertools\n",
        "#number of classifiers\n",
        "m = 5\n",
        "n_elements = math.floor(int(X_train.shape[0]/m))\n",
        "\n",
        "xdt = []\n",
        "ydt = []\n",
        "\n",
        "for i in range(0,m):\n",
        "  fel = i*n_elements\n",
        "  lel = n_elements*(i+1)\n",
        "  xdt.append(np.delete(X_train, slice(fel,lel), axis=0))\n",
        "  ydt.append(np.delete(y_train, slice(fel,lel), axis=0))\n",
        "\n",
        "NN, accuracy = train_commitee(m,xdt,ydt, X_test, y_test)"
      ],
      "execution_count": null,
      "outputs": []
    },
    {
      "cell_type": "code",
      "metadata": {
        "colab": {
          "base_uri": "https://localhost:8080/"
        },
        "id": "NrJcLIAxJ7Lz",
        "outputId": "ebe07bfc-2f96-4c55-eb03-4f5695ec9be7"
      },
      "source": [
        "for i in range(0,m):\n",
        "  print(np.mean(accuracy[i]))"
      ],
      "execution_count": null,
      "outputs": [
        {
          "output_type": "stream",
          "name": "stdout",
          "text": [
            "0.8640949390681298\n",
            "0.8511026965069394\n",
            "0.8385384119859283\n",
            "0.7807029228238648\n",
            "0.8167916546469747\n"
          ]
        }
      ]
    },
    {
      "cell_type": "code",
      "metadata": {
        "colab": {
          "base_uri": "https://localhost:8080/"
        },
        "id": "PT47X3Y3rQQY",
        "outputId": "c09d3a83-5d25-4198-ce12-38d92ffac008"
      },
      "source": [
        "acc, std = get_commitee_answer(NN,X_test,y_test)\n",
        "print(acc, std)"
      ],
      "execution_count": null,
      "outputs": [
        {
          "output_type": "stream",
          "name": "stdout",
          "text": [
            "0.9 0.3\n"
          ]
        }
      ]
    },
    {
      "cell_type": "markdown",
      "metadata": {
        "id": "2VXPOFpbTPVj"
      },
      "source": [
        "7 классификаторов"
      ]
    },
    {
      "cell_type": "code",
      "metadata": {
        "id": "8hG40CdHwkir"
      },
      "source": [
        "import itertools\n",
        "#number of classifiers\n",
        "m = 7\n",
        "n_elements = math.floor(int(X_train.shape[0]/m))\n",
        "\n",
        "xdt = []\n",
        "ydt = []\n",
        "\n",
        "for i in range(0,m):\n",
        "  fel = i*n_elements\n",
        "  lel = n_elements*(i+1)\n",
        "  xdt.append(np.delete(X_train, slice(fel,lel), axis=0))\n",
        "  ydt.append(np.delete(y_train, slice(fel,lel), axis=0))\n",
        "\n",
        "NN, accuracy = train_commitee(m,xdt,ydt, X_test, y_test)"
      ],
      "execution_count": null,
      "outputs": []
    },
    {
      "cell_type": "code",
      "metadata": {
        "colab": {
          "base_uri": "https://localhost:8080/"
        },
        "id": "szn1_hFgLh-U",
        "outputId": "a90aa38c-3b3d-434b-b235-b2f56616e909"
      },
      "source": [
        "for i in range(0,m):\n",
        "  print(np.mean(accuracy[i]))"
      ],
      "execution_count": null,
      "outputs": [
        {
          "output_type": "stream",
          "name": "stdout",
          "text": [
            "0.8931838946810502\n",
            "0.8241314640757086\n",
            "0.8424163811407268\n",
            "0.9123066004855183\n",
            "0.8459055332427994\n",
            "0.8617260443993608\n",
            "0.8866105996403568\n"
          ]
        }
      ]
    },
    {
      "cell_type": "code",
      "metadata": {
        "id": "Zwo0ZA7_wkYR",
        "colab": {
          "base_uri": "https://localhost:8080/"
        },
        "outputId": "6a4dc604-5f2a-4cbd-a8a1-888bdcf99b3e"
      },
      "source": [
        "acc, std = get_commitee_answer(NN,X_test,y_test)\n",
        "print(acc, std)"
      ],
      "execution_count": null,
      "outputs": [
        {
          "output_type": "stream",
          "name": "stdout",
          "text": [
            "0.94 0.23748684174075838\n"
          ]
        }
      ]
    },
    {
      "cell_type": "markdown",
      "metadata": {
        "id": "jsODmS33rwI4"
      },
      "source": [
        "11 классификаторов"
      ]
    },
    {
      "cell_type": "code",
      "metadata": {
        "id": "k5KGTr3Cy1Ri"
      },
      "source": [
        "import itertools\n",
        "#number of classifiers\n",
        "m = 11\n",
        "n_elements = math.floor(int(X_train.shape[0]/m))\n",
        "\n",
        "xdt = []\n",
        "ydt = []\n",
        "\n",
        "for i in range(0,m):\n",
        "  fel = i*n_elements\n",
        "  lel = n_elements*(i+1)\n",
        "  xdt.append(np.delete(X_train, slice(fel,lel), axis=0))\n",
        "  ydt.append(np.delete(y_train, slice(fel,lel), axis=0))\n",
        "\n",
        "NN, accuracy = train_commitee(m,xdt,ydt, X_test, y_test)"
      ],
      "execution_count": null,
      "outputs": []
    },
    {
      "cell_type": "code",
      "metadata": {
        "colab": {
          "base_uri": "https://localhost:8080/"
        },
        "id": "O2_Wg-WWU5tF",
        "outputId": "4cffe92e-0f2a-466f-ac9f-23b352a6ac31"
      },
      "source": [
        "for i in range(0,m):\n",
        "  print(NN[i].getAccuracy())"
      ],
      "execution_count": null,
      "outputs": [
        {
          "output_type": "stream",
          "name": "stdout",
          "text": [
            "0.8582838162764942\n",
            "0.8390466637435662\n",
            "0.7683660132865047\n",
            "0.8729465353117506\n",
            "0.8590887689233471\n",
            "0.8564483739229938\n",
            "0.868153608620625\n",
            "0.8599903668438738\n",
            "0.8771143512045999\n",
            "0.6628491914931516\n",
            "0.862283924865396\n"
          ]
        }
      ]
    },
    {
      "cell_type": "code",
      "metadata": {
        "id": "q_8SJKaqy8iD",
        "colab": {
          "base_uri": "https://localhost:8080/"
        },
        "outputId": "d06d824c-3e48-466a-daf6-17990e941cc9"
      },
      "source": [
        "acc, std = get_commitee_answer(NN,X,Y)\n",
        "print(acc, std)"
      ],
      "execution_count": null,
      "outputs": [
        {
          "output_type": "stream",
          "name": "stdout",
          "text": [
            "0.98 0.13999999999999999\n"
          ]
        }
      ]
    }
  ]
}